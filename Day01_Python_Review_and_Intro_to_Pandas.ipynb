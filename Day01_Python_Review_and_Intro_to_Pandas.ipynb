{
  "cells": [
    {
      "cell_type": "markdown",
      "metadata": {
        "id": "view-in-github",
        "colab_type": "text"
      },
      "source": [
        "<a href=\"https://colab.research.google.com/github/zoe-zillgitt/CS167Notes/blob/main/Day01_Python_Review_and_Intro_to_Pandas.ipynb\" target=\"_parent\"><img src=\"https://colab.research.google.com/assets/colab-badge.svg\" alt=\"Open In Colab\"/></a>"
      ]
    },
    {
      "cell_type": "markdown",
      "metadata": {
        "id": "YanE7gN2ge_W"
      },
      "source": [
        "# CS167: Day01\n",
        "## Welcome to CS167\n",
        "\n",
        "#### CS167: Machine Learning, Spring2023\n",
        "\n",
        "Thursday, January 26th, 2023\n",
        "\n",
        "📆 [Course Schedule](https://docs.google.com/spreadsheets/d/e/2PACX-1vSvFV5Mz0_YZE1d5r3gQ8IMktE4cBAsJIlP30cl2GhEpSO0J-YWV62QokSDz-OcOCsEmxMuKpY0kVlR/pubhtml?gid=0&single=true) | 🙋[PollEverywhere](https://pollev.com/meredithmoore011) | 📜 [Syllabus](https://analytics.drake.edu/~moore/cs167_s23_syllabus.html)"
      ]
    },
    {
      "cell_type": "markdown",
      "metadata": {
        "id": "4FLz6dQJge_Z"
      },
      "source": [
        "# Overview of Today:\n",
        "\n",
        "How this is going to work:\n",
        "- Introduction to Machine Learning\n",
        "- Python Lab"
      ]
    },
    {
      "cell_type": "markdown",
      "metadata": {
        "id": "MsaRp8Mpge_Z"
      },
      "source": [
        "# Day 01 Admin Stuff:\n",
        "\n",
        "## You should be working on:\n",
        "- No active assignments"
      ]
    },
    {
      "cell_type": "markdown",
      "metadata": {
        "id": "vRBgwR8Fge_a"
      },
      "source": [
        "# 💬 Group Exercise:\n",
        "\n",
        "Take 2 minutes to talk to your neighbors about the following:\n",
        "\n",
        "### Come up with as many examples as you can of ways you interact with machine learning on a day-to-day basis.\n",
        "\n",
        "Submit your answers to [PollEverywhere](https://PollEv.com/free_text_polls/gFVsn0AcPlNfYUmMNBz8E/respond)."
      ]
    },
    {
      "cell_type": "markdown",
      "metadata": {
        "id": "a-r8ZgzEge_a"
      },
      "source": [
        "## An Example: Classifying my dogs\n",
        "\n",
        "Imagine we want to classify which of my dogs an image is of.\n",
        "\n",
        "Our training data might look something like this: \n",
        "<div>\n",
        "<img src=\"https://github.com/merriekay/S23-CS167-Notes/blob/main/images/ace_zo_pics.png?raw=1\"/ width=600>\n",
        "</div>\n",
        "\n",
        "> Made it here with Section 1"
      ]
    },
    {
      "cell_type": "markdown",
      "metadata": {
        "id": "j-poyQAMge_b"
      },
      "source": [
        "## An Example: Classifying my dogs\n",
        "Then, when we have some new pictures of my dogs, the idea is that we can make a __prediction__ based on previous data as to whether it is Zoey or Ace in the photo. \n",
        "\n",
        "<div>\n",
        "<img src=\"https://github.com/merriekay/S23-CS167-Notes/blob/main/images/ace.png?raw=1\"/ width=300>\n",
        "</div>"
      ]
    },
    {
      "cell_type": "markdown",
      "metadata": {
        "id": "dX2It_8Zge_b"
      },
      "source": [
        "## Another Example: What species of Iris is this?\n",
        "Use Polleverywhere to answer this question\n",
        "\n",
        "- 5.1 cm petal, 7.2 cm sepal\n",
        "\n",
        "<div>\n",
        "<img src=\"https://github.com/merriekay/S23-CS167-Notes/blob/main/images/day0_iris_q1.png?raw=1\"/>\n",
        "</div>\n"
      ]
    },
    {
      "cell_type": "markdown",
      "metadata": {
        "id": "TkrOo86Ege_c"
      },
      "source": [
        "## 💬 Group Exercise\n",
        "The following image shows two models of whether or not a person is a football player based on their weight and height. \n",
        "\n",
        "__Which model do you think is *better* and why?__\n",
        "<div>\n",
        "<img src=\"https://github.com/merriekay/S23-CS167-Notes/blob/main/images/bias_variance_tradeoff.png?raw=1\"/>\n",
        "</div>"
      ]
    },
    {
      "cell_type": "markdown",
      "metadata": {
        "id": "mL8bSM25ge_c"
      },
      "source": [
        "## Bias v Variance Tradeoff\n",
        "\n",
        "### 🚨 Termiology Alert!🚨 \n",
        "__Bias__ is the simplifying assumptions made by the model to make the target function easier to approximate.\n",
        "- In other words, __bias__ is erroneous assumptions in a learning model\n",
        "\n",
        "__Variance__ is the amount that the estimate of the target function will change given different training data. \n",
        "- __variance__ is th error from sensitivity to small fluctuations in the training set. "
      ]
    },
    {
      "cell_type": "markdown",
      "metadata": {
        "id": "Q4pP5YTege_c"
      },
      "source": [
        "## ❓ Concept Check Question\n",
        "Which of the models below do you think has **high variance** (error from small fluctuations) and which one do you think has **high bias** (simplifying assumptions)?\n",
        "\n",
        "<div>\n",
        "<img src=\"https://github.com/merriekay/S23-CS167-Notes/blob/main/images/day01_bias_variance.png?raw=1\"/>\n",
        "</div>"
      ]
    },
    {
      "cell_type": "markdown",
      "metadata": {
        "id": "DfuN_Lokge_d"
      },
      "source": [
        "## Machine Learning Variations\n",
        "\n",
        "We are going to learn about a lot of different types of machine learning in CS167. Here are a few categories to look out for: \n",
        "- __classifcation__: identify which category it goes in. Examples: Spam or ham? Eric or Tim? Fish, amphibian, reptile, bird, or mammal\n",
        "- __regression__: real-valued labels. Examples: price of Bitcoin, tomorrow's temperature, etc.\n",
        "- __supervised learning__: data has labels, goal is to predict the labels of new instance. \n",
        "- __unsupervised learning__: data does not have a label, the goal is to analyze/cluster the examples. \n",
        "- __other issues__: missing data, sequential data, outlier anomaly detetion, and many more. "
      ]
    },
    {
      "cell_type": "markdown",
      "metadata": {
        "id": "LaRVOhP_ge_d"
      },
      "source": [
        "# Intro to Google Colab:\n",
        "\n",
        "## What is Google colab?\n",
        "Colab is a great browser-based tool for developing IPython Notebooks. Colab allows anybody to write and execute Python code through the browser, and is especially well suited to machine learning, data analysis and education.\n",
        "\n",
        "It makes it really easy to open up someone else's notebook and run it yourself. It also makes it easy to annotate and explain what is happening in the code using Markdown cells."
      ]
    },
    {
      "cell_type": "markdown",
      "metadata": {
        "id": "rNQOo80Hge_e"
      },
      "source": [
        "## How is Colab different from what you're using right now? \n",
        "- I'm currently using Jupyter Notebooks to present these slides, Colab doesn't work with RISE, the plugin I'm using to present things, so in class, I'll usually use Jupyter (which runs locally, and pre-dates Colab). "
      ]
    },
    {
      "cell_type": "markdown",
      "metadata": {
        "id": "1wmb5E9Dge_e"
      },
      "source": [
        "## RISE + Jupyter Demo\n",
        "- A neat thing that this configuration allows me to do is run and edit code live while presenting slides. "
      ]
    },
    {
      "cell_type": "code",
      "execution_count": null,
      "metadata": {
        "id": "F_qpy4Knge_e",
        "outputId": "d04f5fc3-9ca1-4f29-ded1-6c17aa21aa41"
      },
      "outputs": [
        {
          "name": "stdout",
          "output_type": "stream",
          "text": [
            "10 3.14 machine learning hi x [1, 2, 3]\n"
          ]
        }
      ],
      "source": [
        "a=10\n",
        "b=3.14\n",
        "c = \"machine learning\"\n",
        "d = 'hi'\n",
        "e = 'x'\n",
        "f = [1,2,3]\n",
        "print(a,b,c,d,e,f)"
      ]
    },
    {
      "cell_type": "markdown",
      "metadata": {
        "id": "W2iTcyi3ge_f"
      },
      "source": [
        "## Google Colab Demonstration\n",
        "\n",
        "For today's exercises, I'm going to ask that you use Google Colab. Before we dive in, I want to give a quick tutorial of some of the main features of Google Colab: \n",
        "\n",
        "- Adding Cells\n",
        "    - Text Cells\n",
        "    - Code Cells\n",
        "- Markdown Basics\n",
        "    - headings\n",
        "    - new line\n",
        "    - bold\n",
        "    - code\n",
        "    - italics\n",
        "    - lists and bullet points\n",
        "- Running Cells\n",
        "    - `shift + return`\n",
        "- Saving:\n",
        "    - to Google Drive\n",
        "    - to GitHub"
      ]
    },
    {
      "cell_type": "markdown",
      "metadata": {
        "id": "2xYp9ajWge_g"
      },
      "source": [
        "## What I'm asking of you:\n",
        "\n",
        "On Blackboard, you should find a file called `Day01_Notes.txt`. This is the outline for today's Python Refresher course.\n",
        "\n",
        "For the rest of the class period, here's what I'm expecting:\n",
        "- Please don't just copy, paste, and run the code... \n",
        "    - take a second before running it and discuss with your group what you think is going to happen. This really helps us to understand where our underlying assumptions are incorrect."
      ]
    },
    {
      "cell_type": "markdown",
      "metadata": {
        "id": "twXHZVhUge_g"
      },
      "source": [
        "- When the outcome is different than you expected, dig in, and try to figure out why. If you're not sure why, raise your hand, and I'll come help explain. \n",
        "    - what does this difference say about how Python works?"
      ]
    },
    {
      "cell_type": "markdown",
      "metadata": {
        "id": "Q8KSJbW5ge_g"
      },
      "source": [
        "- Answer the questions from the slides in text cells in your notebook. \n",
        "    - if something was of interest, add a text cell and describe what was of note. "
      ]
    },
    {
      "cell_type": "markdown",
      "metadata": {
        "id": "U08buudege_g"
      },
      "source": [
        "# Let's get started!\n",
        "\n",
        "## Step 1: Create a new notebook\n",
        "\n",
        "There are two ways to do this. "
      ]
    },
    {
      "cell_type": "markdown",
      "metadata": {
        "id": "AvxF15Nuge_g"
      },
      "source": [
        "1. From Google Drive: https://drive.google.com/ \n",
        "> You may need to 'connect more apps', and select Google Colaboratory. \n",
        "<div>\n",
        "<img src=\"https://github.com/merriekay/S23-CS167-Notes/blob/main/images/day01_p2_newcolab1.png?raw=1\"/ width=500>\n",
        "</div>\n"
      ]
    },
    {
      "cell_type": "markdown",
      "metadata": {
        "id": "899z3rF0ge_g"
      },
      "source": [
        "2. From Google Colab: https://colab.research.google.com/\n",
        "<div>\n",
        "<img src=\"https://github.com/merriekay/S23-CS167-Notes/blob/main/images/day01_p2_newcolab.png?raw=1\"/ width=300>\n",
        "</div>\n"
      ]
    },
    {
      "cell_type": "markdown",
      "metadata": {
        "id": "7hC9fffege_h"
      },
      "source": [
        "# 🫣 Wait, what am I supposed to be doing?\n",
        "\n",
        "Make sure you give your notebook a name (maybe `Day01_notes.ipynb`), and save it to your CS167-Notes Github repository.\n",
        "\n",
        "Your workflow for the rest of class should look something like this: \n",
        "- you should have the `Day01_Notes.txt` file open, as well as your Colab Notebook. \n",
        "- Copy a section of text from the .txt file and paste it into a new cell in your Colab Notebook.\n",
        "- Take a minute and look over the code and predict what will happen. Some cells have specific instructions as to what you should be trying to predict. \n",
        "- Run the cell, and see if your prediction was correct. \n",
        "    - If so, great! Move on. \n",
        "    - If not, even better--you get to dig into why your expectations were different than how it actually worked, which is a great opportunity to learn something new :)\n",
        "- Move on to the next cell and repeat! "
      ]
    },
    {
      "cell_type": "markdown",
      "metadata": {
        "id": "4wFaHsutge_h"
      },
      "source": [
        "For the Python review, I'm going to let you all go through it at your own pace, but I will interrupt and go over some of the `pandas` material when I notice people ready to get into it. \n",
        "\n",
        "I'll be walking around to provide moral support, nudges in the (hopefully) correct direction, and occasional dance moves (if the music you put on the shared playlist is good enough to make me dance🕺🏽🪩). \n",
        "> Feel free to flag me down if you get stuck, or don't understand how/why something is working."
      ]
    },
    {
      "cell_type": "markdown",
      "metadata": {
        "id": "wsZBtYOGge_h"
      },
      "source": [
        "# Accessing Data\n",
        "\n",
        "Google Colab is a cloud-based tool, which means that we need to store our data in the cloud as well. We cannot simply reference our local data and expect it to work. \n",
        "\n",
        "Go ahead and download the `restaurant.csv` file from Blackboard. It is in the Datasets folder. \n",
        "<div>\n",
        "<img src=\"https://github.com/merriekay/S23-CS167-Notes/blob/main/images/restaurantcsv.png?raw=1\"/ width=600>\n",
        "</div>\n",
        "\n",
        "You'll need to put this file into your Google Drive. I would recommend having a `CS167` folder and a `datasets` folder inside of your `CS167` folder. "
      ]
    },
    {
      "cell_type": "markdown",
      "metadata": {
        "id": "n3Y-3wYuge_h"
      },
      "source": [
        "To access this file in Google Colab, you'll need a little bit of code. "
      ]
    },
    {
      "cell_type": "code",
      "execution_count": null,
      "metadata": {
        "id": "3np5m658ge_h"
      },
      "outputs": [],
      "source": [
        "# The first step is to mount your Google Drive to your Colab account. \n",
        "#You will be asked to authorize Colab to access your Google Drive. Follow the steps they lead you through.\n",
        "\n",
        "#this will only work in Google Colab.\n",
        "\n",
        "from google.colab import drive\n",
        "drive.mount('/content/drive')"
      ]
    },
    {
      "cell_type": "markdown",
      "metadata": {
        "id": "9Yue9VzAge_h"
      },
      "source": [
        "# 🐼 Pandas\n",
        "__Pandas__ is a super powerful Python data analysis library. \n",
        "- it's built on top of another super powerful libray called `numpy`\n",
        "\n",
        "Using Google Colab, `pandas` should already be installed. If you see `In [*]` next to a cell, it means your computer is working on the task. "
      ]
    },
    {
      "cell_type": "code",
      "execution_count": null,
      "metadata": {
        "id": "N507w3I4ge_i"
      },
      "outputs": [],
      "source": [
        "#you should be able to run this without any issue.\n",
        "import pandas as pd"
      ]
    },
    {
      "cell_type": "markdown",
      "metadata": {
        "id": "2yYjhIYcge_i"
      },
      "source": [
        "## Creating a `DataFrame`:\n",
        "\n",
        "In `pandas`,there are two main datatypes, the first of which is a `DataFrame`. \n",
        "\n",
        "[Pandas Documentation](https://pandas.pydata.org/docs/reference/api/pandas.DataFrame.html) defines `DataFrames` as: \n",
        "> Two-dimensional, size-mutable, potentially heterogeneous tabular data.\n",
        "\n",
        "\n",
        "- basically, think of `DataFrames` as our excel sheets--two dimensional, tabular data.\n",
        "- Each column has a name, and you can use these names to filter and create subsets of data. \n",
        "- often, you'll see `DataFrames` abbreviated to `df`. "
      ]
    },
    {
      "cell_type": "code",
      "execution_count": null,
      "metadata": {
        "id": "bUfioquOge_i",
        "outputId": "8c271f4c-9f2a-4486-8b35-cdf3856af412"
      },
      "outputs": [
        {
          "name": "stdout",
          "output_type": "stream",
          "text": [
            "data is a  <class 'pandas.core.frame.DataFrame'>\n"
          ]
        }
      ],
      "source": [
        "#in colab, your path should look something like this:\n",
        "path = '/content/drive/MyDrive/CS167/datasets/restaurant.csv' #'dataset/restaurant.csv'\n",
        "data = pd.read_csv(path) \n",
        "print(\"data is a \", type(data))"
      ]
    },
    {
      "cell_type": "markdown",
      "metadata": {
        "id": "ezv8TaLUge_i"
      },
      "source": [
        "### 📣 Helpful Method Alert: `df.head()`\n",
        "\n",
        "The `.head()` method can be called on any DataFrame, and by default will display the first 5 lines rows of the data, as well as the names of the columns. \n",
        "- if you want it to display more than 5 rows, you can provide a number as an argument to the method.\n",
        "\n",
        "In IPython notebooks, whatever you leave at the end of a cell will automatically output.\n",
        "\n",
        "So, when you put those two facts together, you get this nifty functionality: "
      ]
    },
    {
      "cell_type": "code",
      "execution_count": null,
      "metadata": {
        "id": "W6ywslEIge_i",
        "outputId": "6c9612ee-0327-4ae7-dbea-9580a4127ea6"
      },
      "outputs": [
        {
          "data": {
            "text/html": [
              "<div>\n",
              "<style scoped>\n",
              "    .dataframe tbody tr th:only-of-type {\n",
              "        vertical-align: middle;\n",
              "    }\n",
              "\n",
              "    .dataframe tbody tr th {\n",
              "        vertical-align: top;\n",
              "    }\n",
              "\n",
              "    .dataframe thead th {\n",
              "        text-align: right;\n",
              "    }\n",
              "</style>\n",
              "<table border=\"1\" class=\"dataframe\">\n",
              "  <thead>\n",
              "    <tr style=\"text-align: right;\">\n",
              "      <th></th>\n",
              "      <th>alt</th>\n",
              "      <th>bar</th>\n",
              "      <th>fri</th>\n",
              "      <th>hun</th>\n",
              "      <th>pat</th>\n",
              "      <th>price</th>\n",
              "      <th>rain</th>\n",
              "      <th>res</th>\n",
              "      <th>type</th>\n",
              "      <th>est</th>\n",
              "      <th>target</th>\n",
              "    </tr>\n",
              "  </thead>\n",
              "  <tbody>\n",
              "    <tr>\n",
              "      <th>0</th>\n",
              "      <td>Yes</td>\n",
              "      <td>No</td>\n",
              "      <td>No</td>\n",
              "      <td>Yes</td>\n",
              "      <td>Some</td>\n",
              "      <td>$$$</td>\n",
              "      <td>No</td>\n",
              "      <td>Yes</td>\n",
              "      <td>French</td>\n",
              "      <td>0-10</td>\n",
              "      <td>Yes</td>\n",
              "    </tr>\n",
              "    <tr>\n",
              "      <th>1</th>\n",
              "      <td>Yes</td>\n",
              "      <td>No</td>\n",
              "      <td>No</td>\n",
              "      <td>Yes</td>\n",
              "      <td>Full</td>\n",
              "      <td>$</td>\n",
              "      <td>No</td>\n",
              "      <td>No</td>\n",
              "      <td>Thai</td>\n",
              "      <td>30-60</td>\n",
              "      <td>No</td>\n",
              "    </tr>\n",
              "    <tr>\n",
              "      <th>2</th>\n",
              "      <td>No</td>\n",
              "      <td>Yes</td>\n",
              "      <td>No</td>\n",
              "      <td>No</td>\n",
              "      <td>Some</td>\n",
              "      <td>$</td>\n",
              "      <td>No</td>\n",
              "      <td>No</td>\n",
              "      <td>Burger</td>\n",
              "      <td>0-10</td>\n",
              "      <td>Yes</td>\n",
              "    </tr>\n",
              "    <tr>\n",
              "      <th>3</th>\n",
              "      <td>Yes</td>\n",
              "      <td>No</td>\n",
              "      <td>Yes</td>\n",
              "      <td>Yes</td>\n",
              "      <td>Full</td>\n",
              "      <td>$</td>\n",
              "      <td>No</td>\n",
              "      <td>No</td>\n",
              "      <td>Thai</td>\n",
              "      <td>10-30</td>\n",
              "      <td>Yes</td>\n",
              "    </tr>\n",
              "    <tr>\n",
              "      <th>4</th>\n",
              "      <td>Yes</td>\n",
              "      <td>No</td>\n",
              "      <td>Yes</td>\n",
              "      <td>No</td>\n",
              "      <td>Full</td>\n",
              "      <td>$$$</td>\n",
              "      <td>No</td>\n",
              "      <td>Yes</td>\n",
              "      <td>French</td>\n",
              "      <td>&gt;60</td>\n",
              "      <td>No</td>\n",
              "    </tr>\n",
              "  </tbody>\n",
              "</table>\n",
              "</div>"
            ],
            "text/plain": [
              "   alt  bar  fri  hun   pat price rain  res    type    est target\n",
              "0  Yes   No   No  Yes  Some   $$$   No  Yes  French   0-10    Yes\n",
              "1  Yes   No   No  Yes  Full     $   No   No    Thai  30-60     No\n",
              "2   No  Yes   No   No  Some     $   No   No  Burger   0-10    Yes\n",
              "3  Yes   No  Yes  Yes  Full     $   No   No    Thai  10-30    Yes\n",
              "4  Yes   No  Yes   No  Full   $$$   No  Yes  French    >60     No"
            ]
          },
          "execution_count": 14,
          "metadata": {},
          "output_type": "execute_result"
        }
      ],
      "source": [
        "data.head()"
      ]
    },
    {
      "cell_type": "markdown",
      "metadata": {
        "id": "DaZiOXl-ge_i"
      },
      "source": [
        "## DataFrame Shape\n",
        "Want to know the dimensions of your DataFrame? Use `df.shape`"
      ]
    },
    {
      "cell_type": "code",
      "execution_count": null,
      "metadata": {
        "id": "jOpzI-6kge_j",
        "outputId": "a9d313f8-9eb5-4ad9-ee62-6d2ec274582a"
      },
      "outputs": [
        {
          "data": {
            "text/plain": [
              "(12, 11)"
            ]
          },
          "execution_count": 30,
          "metadata": {},
          "output_type": "execute_result"
        }
      ],
      "source": [
        "data.shape"
      ]
    }
  ],
  "metadata": {
    "celltoolbar": "Slideshow",
    "kernelspec": {
      "display_name": "Python 3",
      "language": "python",
      "name": "python3"
    },
    "language_info": {
      "codemirror_mode": {
        "name": "ipython",
        "version": 3
      },
      "file_extension": ".py",
      "mimetype": "text/x-python",
      "name": "python",
      "nbconvert_exporter": "python",
      "pygments_lexer": "ipython3",
      "version": "3.8.3"
    },
    "colab": {
      "provenance": [],
      "include_colab_link": true
    }
  },
  "nbformat": 4,
  "nbformat_minor": 0
}