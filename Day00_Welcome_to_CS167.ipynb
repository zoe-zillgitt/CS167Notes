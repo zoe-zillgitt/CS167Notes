{
  "cells": [
    {
      "cell_type": "markdown",
      "metadata": {
        "id": "awaHPctsYsi1"
      },
      "source": [
        "# CS167: Day00\n",
        "## Welcome to CS167\n",
        "\n",
        "#### CS167: Machine Learning, Spring2023\n",
        "\n",
        "Tuesday, January 24th, 2023\n",
        "\n",
        "📆 [Course Schedule](https://docs.google.com/spreadsheets/d/e/2PACX-1vSvFV5Mz0_YZE1d5r3gQ8IMktE4cBAsJIlP30cl2GhEpSO0J-YWV62QokSDz-OcOCsEmxMuKpY0kVlR/pubhtml?gid=0&single=true) | 🙋[PollEverywhere](https://pollev.com/meredithmoore011) | 📜 [Syllabus](https://analytics.drake.edu/~moore/cs167_s23_syllabus.html)"
      ]
    },
    {
      "cell_type": "markdown",
      "metadata": {
        "id": "HOudJ_hvYsi5"
      },
      "source": [
        "# Overview of Today:\n",
        "\n",
        "How this is going to work:\n",
        "- Introductions\n",
        "- Syllabus and Logistics\n",
        "- Notebook 00: Onboarding Walkthrough\n",
        "- Introduction to Machine Learning"
      ]
    },
    {
      "cell_type": "markdown",
      "metadata": {
        "id": "ManDMKZQYsi5"
      },
      "source": [
        "# Day 01 Admin Stuff:\n",
        "\n",
        "## You should be working on:\n",
        "- [ ] [Notebook #0](https://classroom.github.com/a/o6dY8OL6): CS167 Onboarding (intro questionniare, polleverywhere, GitHub, etc)\n",
        "    - Due before class on Thursday 1/26--Classroom says by 11:59 (because both sections are merged), but the idea is to have things set up for class"
      ]
    },
    {
      "cell_type": "markdown",
      "metadata": {
        "id": "mYJUQq1uYsi6"
      },
      "source": [
        "# 👋 Introductions:\n",
        "\n",
        "Introduce yourself to your table:\n",
        "- Name, year at Drake, majors, and something fun you did over break. "
      ]
    },
    {
      "cell_type": "markdown",
      "metadata": {
        "id": "AWKaS49_Ysi6"
      },
      "source": [
        "# Syllabus:"
      ]
    },
    {
      "cell_type": "markdown",
      "metadata": {
        "id": "AAVP5Pe3Ysi6"
      },
      "source": [
        "## Instructor:\n",
        "\n",
        "Meredith Moore <br>\n",
        "she | her <br>\n",
        "meredith.moore@drake.edu <br>\n",
        "325 Collier-Scrips (office) <br>\n",
        "\n",
        "\n",
        "You can call me Professor Moore, Dr. Moore, or Meredith, I don't have a very strong preference. I'll always sign emails as Meredith."
      ]
    },
    {
      "cell_type": "markdown",
      "metadata": {
        "id": "K7LuJsNFYsi7"
      },
      "source": [
        "## 📆 Class Meeting Time and Place:\n",
        "\n",
        "__Where:__ Harvey Ingham 0019\n",
        "\n",
        "__When:__ Tuesday / Thursday:\n",
        "- Section 1: 11:00 - 12:15\n",
        "- Section 0: 12:15 - 1:45"
      ]
    },
    {
      "cell_type": "markdown",
      "metadata": {
        "id": "Q2TpA4GwYsi7"
      },
      "source": [
        "## 🪴Office Hours\n",
        "\n",
        "TBD based on your availability:\n",
        "- [Please fill out this when2meet](https://www.when2meet.com/?18438746-oRViw)"
      ]
    },
    {
      "cell_type": "markdown",
      "metadata": {
        "id": "HH4bGXNTYsi8"
      },
      "source": [
        "## 📧 Course Communication\n",
        "\n",
        "The course content will be posted on the course Blackboard page. Any announcements will be sent using Blackboard's announcement feature (as well as email).\n",
        "\n",
        "It is a personal goal of mine to respond to student emails within 24 hours of receipt. \n",
        "\n",
        "If you have not heard back from me within 24 hours, please send the email again--you can use one word in the email body, simply 'bump', and I'll understand that it's an email that I missed and need to take care of asap. "
      ]
    },
    {
      "cell_type": "markdown",
      "metadata": {
        "id": "4Nv3zaQOYsi8"
      },
      "source": [
        "## Course Description:\n",
        "This course introduces approaches to __developing computer programs that learn from data__. Both foundational and contemporary machine learning algorithms will be covered in the context of a variety of data and problem types. Specific topics will vary but may include:\n",
        "\n",
        "- artificial neural networks\n",
        "- k-nearest-neighbors\n",
        "- decision trees\n",
        "- random forests\n",
        "- support vector machines\n",
        "- convolutional neural networks\n",
        "- recurrent neural networks\n",
        "- other relevant advanced machine learning techniques\n",
        "\n",
        "Students will develop their own implementations of the algorithms as well as utilizing modern machine learning software and programming libraries."
      ]
    },
    {
      "cell_type": "markdown",
      "metadata": {
        "id": "gTElgZgtYsi9"
      },
      "source": [
        "## Course Goals:\n",
        "At the end of this course, students that have taken an active part should be able to: \n",
        "- apply a variety of modeling techniques to classification, regression, and unsupervised learning problems using data in different formats (such as typical structured data, text, and images). \n",
        "- create software which utilizes machine learning programming libraries in order to conduct machine-learning-based data analysis. \n",
        "- develop and conduct machine-learning-based data analysis experiments, and they will be able to interpret and explain the results.  \n",
        "- Feel comfortable with using two industry standard tools: Google Colab and GitHub"
      ]
    },
    {
      "cell_type": "markdown",
      "metadata": {
        "id": "iM7ZBRP4Ysi9"
      },
      "source": [
        "## Names and Pronouns\n",
        "Everyone has the right to be addressed by the name and pronouns that they use for themselves. \n",
        "\n",
        "I am committed to ensuring that I address you with your chosen name and pronouns, and expect everyone to do so. \n",
        "\n",
        "A student’s chosen name and pronouns are to be respected at all times in our classroom. Please let me know in the Intro Questionnaire (part of Notebook 00) what name and pronouns we should use for you if they are not on the roster. \n",
        "\n",
        "Here are some resources to learn more:\n",
        "- [Intro Handout on Pronouns](https://www.umass.edu/stonewall/sites/default/files/pronouns_intro.pdf)\n",
        "- [Drake’s Student Pronoun Policy](https://www.drake.edu/media/universitypolicies/academic/student-pronoun-policy.pdf)\n",
        "- [Drake’s Preferred Name Policy](https://www.drake.edu/media/universitypolicies/studentlife/Student%20Preferred%20Name.pdf)\n"
      ]
    },
    {
      "cell_type": "markdown",
      "metadata": {
        "id": "UOukLDSbYsi-"
      },
      "source": [
        "## Grading\n",
        "| **Category**  | **Percent Final Grade** | **Description**                                                     |\n",
        "|:---------------|:-------------------------:|:---------------------------------------------------------------------|\n",
        "| Notebooks     | 40%                     | In-class and take home assignments                                  |\n",
        "| Quizzes       | 30%                     | 3 quizzes, 10% each |\n",
        "| Projects      | 20%                     | 2 projects, each worth 10% of final grade                           |\n",
        "| Participation | 10%                     | PollEverywhere participation, not based on correctness              |"
      ]
    },
    {
      "cell_type": "markdown",
      "metadata": {
        "id": "whMisHRcYsi-"
      },
      "source": [
        "### Letter Grade Scale\n",
        "| __Final Grade__   |    |              |     |              |    |\n",
        "|---------------|:----|--------------|:-----|--------------|:----|\n",
        "| 93.0 - 100    | A  | 80.0 - 82.99 | B-  | 67 - 69.99   | D+ |\n",
        "| 90.0 - 92.99  | A- | 77.0 - 79.99 | C+  | 63.0 - 66.99 | D  |\n",
        "| 87.0 - 89.99  | B+ | 73.0 - 76.99 | C   | Below 63     | F  |\n",
        "| 83.0 - 86.99  | B  | 70.0 - 72.99 | C-  |              |    |"
      ]
    },
    {
      "cell_type": "markdown",
      "metadata": {
        "id": "EVjq8mCTYsi-"
      },
      "source": [
        "### Notebooks (40%): \n",
        "Throughout the course, we will be learning to apply machine learning principles using Python machine learning tools. \n",
        "\n",
        "Machine learning code is often developed in and communicated using an interactive integrated development environment called __Jupyter Notebooks__ which support a natural interleaving of code, output/results, and mark-up documentation--what you're seeing right now is actually a Jupyter notebook.\n",
        "\n",
        "You will regularly submit notebook files (files with the extension `.ipynb`) to demonstrate your proficiency with the Python tools we are\n",
        "using. Given the long computation times of the programs you write, I will not usually be executing your code, so it is critical that the results from your executions are preserved in the notebook. You can expect to submit 6 notebooks throughout the course. "
      ]
    },
    {
      "cell_type": "markdown",
      "metadata": {
        "id": "h6CFSZfeYsi-"
      },
      "source": [
        "### Quizzes (30%):\n",
        "There will be 3 quizzes that will be administered via Blackboard. They will not be timed, and you will have a few days to complete them. \n",
        "\n",
        "Quizzes should be completed individually, and will be due before class on the following Monday. There is no time limit on these quizzes, but they must be submitted before we convene for the next class. \n",
        "\n",
        "As in the real world, you will be allowed to use external resources like the class notes and the internet. You will be required to cite any sources that you used while completing these quizzes other than the class notes. "
      ]
    },
    {
      "cell_type": "markdown",
      "metadata": {
        "id": "ItHKAEcjYsi_"
      },
      "source": [
        "### Projects (20%):\n",
        "The two projects in this course will emphasize the design, execution, and interpretation of machine learning experiments. \n",
        "\n",
        "The grading emphasis will be on how well you explain your data and experiment as well as your written interpretation. For these, you will submit Jupyter Notebooks with more extensive writing in the mark-up cells than for your regular notebook assignments. "
      ]
    },
    {
      "cell_type": "markdown",
      "metadata": {
        "id": "3-RGrVW-Ysi_"
      },
      "source": [
        "### Participation (10%)\n",
        "\n",
        "This is a highly interactive class. In other words, **active participation is an expectation and the norm**. You will receive credit for participating in class which will be counted towards your final grade. I will keep track of your participation using PollEverywhere. Throughout the class, I will pose questions using this polling software to get a better understanding of how the class is doing with the content. These responses will not be counted for correctness, but rather for completion. \n",
        "\n",
        "I respect your privacy. If you encounter challenges (physical health, mental health, of life in general) that interfere with your ability to participate in the course or complete your work, I will not require any kind of documentation. \n",
        "\n",
        "You also do not need to explain; you can simply inform me that you are experiencing problems and we will work together to figure out a plan that will enable you to complete the course if you want to. For example, If for some reason, you are unable to make the in-person class session, please email me and I will provide you with the zoom link for the day so you can attend class virtually.\n",
        "\n",
        "If you are unable to participate in the course for a prolonged period, we will discuss whether an incomplete is the best option. "
      ]
    },
    {
      "cell_type": "markdown",
      "metadata": {
        "id": "-WHrC4hJYsi_"
      },
      "source": [
        "## Access and Success Accomodations\n",
        "Accessibility is very important to me. I’ve done my best to design this course such that it is as universally designed as possible–flexible attendance, recording lectures, removing timed exams, live captions in class, etc. However, I am more than happy to work with you if there are other accommodations that I can provide to help you succeed in this course.\n",
        "\n",
        " In my opinion, academic accommodations are severely underutilized. While I am committed to designing my courses to be accessible to everyone, I know that there are times when accommodations make a huge difference. Please, if you are neurodivergent, consider setting up an appointment with Access and Success to have access to accommodations. I am in your corner for this, please don’t hesitate to reach out to me if you have any questions.\n",
        "\n",
        "### Process for Communicating Academic Accommodations: \n",
        "-  When students request accommodations, they must provide documentation to Access & Success. \n",
        "- First-year students, students new to requesting accommodations, and transfer students are required to make an appointment with Access & Success. Access & Success work together with the student to determine reasonable accommodations for each of the student’s classes.  \n",
        "- Returning students can fill out an accommodation request form, found on the Access & Success website, www.drake.edu/access-success.  The same process will be followed as above, however returning students do not need to meet with Access & Success unless their accommodations need to be changed.   \n",
        "\n",
        "If you have a disability and require academic or physical accommodations in this course, please contact me and Access and Success Services (Michelle Laughlin, Director, Access and Success, at (515) 271-1835 or michelle.laughlin@drake.edu) in advance of the date the accommodations are needed. All requests for assistance must be received (at least) four full business days prior to the requested need.\n"
      ]
    },
    {
      "cell_type": "markdown",
      "metadata": {
        "id": "8Awv7WNOYsi_"
      },
      "source": [
        "# Blackboard Tour\n",
        "Let's take a quick break and walk through the course Blackboard website. "
      ]
    },
    {
      "cell_type": "markdown",
      "metadata": {
        "id": "5yYXQJ7JYsjA"
      },
      "source": [
        "## [Notebook 0: Onboarding](https://github.com/merriekay/CS167-Notebook-0)\n",
        "\n",
        "__Due__: Thursday, 1/26 before class\n",
        "\n",
        "We will be using a few helpful tools in this class:\n",
        "- GitHub\n",
        "- GitHub Classroom\n",
        "- PollEverywhere\n",
        "- Spotify \n",
        "\n",
        "[Notebook 00](https://github.com/merriekay/CS167-Notebook-0) will walk you through getting onboarded to these systems.\n",
        "\n",
        "You need to respond to the 'quiz' on Blackboard to check off the steps for Notebook 0."
      ]
    },
    {
      "cell_type": "markdown",
      "metadata": {
        "id": "30nWQ6EYYsjA"
      },
      "source": [
        "## Participation Cards:\n",
        "\n",
        "It is a goal of mine to make my classrooms as __inclusive and equitable as possible__. \n",
        "\n",
        "Towards this goal, we will be using __participation cards__. \n",
        "\n",
        "How it's going to work: \n",
        "- Today, in class, we're going ot make __participation cards__\n",
        "- At the start of class, I'll shuffle and draw a card. The person whose name is on that card becomes the __card bearer__ for the day. \n",
        "- The __card bearer__ is responsible for flipping cards and calling out the person whose name is on the card when I ask them to. "
      ]
    },
    {
      "cell_type": "markdown",
      "metadata": {
        "id": "c3EFMgMIYsjA"
      },
      "source": [
        "## Participation Cards (cont)\n",
        "\n",
        "If your name is called out by the card bearer you have a few options: \n",
        "1. Answer the question\n",
        "2. Ask what the question was (you'll be surprised how often, even I, forget what the question was). \n",
        "3. Say 'Pass', or 'I'm not sure'\n",
        "4. Ask for a group 'huddle', where you can talk to your neighbors for a solution.\n",
        "\n",
        "Participation cards are a solution to help the class participation be more equitable. They're not meant to induce anxiety, and I hope you'll find I use them in a way that is more fun than anxiety inducing. "
      ]
    },
    {
      "cell_type": "markdown",
      "metadata": {
        "id": "MZbUFFwUYsjA"
      },
      "source": [
        "# Arts and Crafts Time\n",
        "Time to make your participation card!\n",
        "\n",
        "> Make sure the following is neat, and clear so that the class can read your name.\n",
        "\n",
        "What to include:\n",
        "- __name__: (what you want to be called), at least first name and last initial, pronunciation help if you think it's necessary \n",
        "- __pronouns__: \n",
        "- __class name__: CS167\n",
        "- Feel free to add decorations or whatever you'd like. "
      ]
    },
    {
      "cell_type": "markdown",
      "metadata": {
        "id": "auNt2aYpYsjA"
      },
      "source": [
        "# Github Walkthrough\n",
        "\n",
        "Setting up an S23-CS167 notes repository.\n",
        "\n",
        "Accepting the Github Classroom assignment.\n",
        "\n",
        "Changing settings to allow access to private repositories."
      ]
    },
    {
      "cell_type": "markdown",
      "metadata": {
        "id": "zZxG-Jt6YsjA"
      },
      "source": [
        "# 🤖 What is Machine Learning?"
      ]
    },
    {
      "cell_type": "markdown",
      "metadata": {
        "id": "tU2sR68vYsjB"
      },
      "source": [
        "__Definition #1__: creating machines (e.g. computer programs) that improve automatically with experience\n",
        "\n",
        "__Definition #2__: the field of study that gives computers the ability to learn without being explicitly programmed. "
      ]
    },
    {
      "cell_type": "markdown",
      "metadata": {
        "id": "7-YrCqrIYsjB"
      },
      "source": [
        "## How is Machine Learning different than Artificial Intelligence?"
      ]
    },
    {
      "cell_type": "markdown",
      "metadata": {
        "id": "fD2Ql2JlYsjB"
      },
      "source": [
        "Let's play a game of chess ♟... \n",
        "\n",
        "An __artificial intelligence__ approach: \n",
        "- develop a heuristic (a way to tell which move is best)\n",
        "    - Queen is 12 points\n",
        "    - Rook is 8 points\n",
        "    - Pawn is 1 point\n",
        "    - etc... "
      ]
    },
    {
      "cell_type": "markdown",
      "metadata": {
        "id": "gJ5i7A8AYsjB"
      },
      "source": [
        "- For any configuration of a chess board, establish the set of valid moves.\n",
        "- __Search__ the set of possible moves in the future\n",
        "- Select the move that maximizes the possible points"
      ]
    },
    {
      "cell_type": "markdown",
      "metadata": {
        "id": "lw2RTpaXYsjB"
      },
      "source": [
        "## How is Machine Learning different than Artificial Intelligence?\n",
        "Let's play a game of chess ♟... \n",
        "\n",
        "A __machine learning__ approach: "
      ]
    },
    {
      "cell_type": "markdown",
      "metadata": {
        "id": "ElX3-IvcYsjB"
      },
      "source": [
        "- based on data\n",
        "- Gather a bunch of chess game examples\n",
        "- For any configuration, examine the database of moves of winning games\n",
        "- Find the board configuration that is the 'closest' and make appropriate moves. "
      ]
    },
    {
      "cell_type": "markdown",
      "metadata": {
        "id": "4PNCbabhYsjB"
      },
      "source": [
        "# 💬 Group Exercise:\n",
        "\n",
        "Take 2 minutes to talk to your neighbors about the following:\n",
        "\n",
        "### Come up with as many examples as you can of ways you interact with machine learning on a day-to-day basis.\n",
        "\n",
        "Submit your answers to [PollEverywhere](https://PollEv.com/free_text_polls/gFVsn0AcPlNfYUmMNBz8E/respond)."
      ]
    },
    {
      "cell_type": "markdown",
      "metadata": {
        "id": "29PGl3MhYsjB"
      },
      "source": [
        "## An Example: Classifying my dogs\n",
        "\n",
        "Imagine we want to classify which of my dogs an image is of.\n",
        "\n",
        "Our training data might look something like this: \n",
        "<div>\n",
        "<img src=\"https://github.com/merriekay/S23-CS17-Notes/blob/main/images/ace_zo_pics.png?raw=1\"/ width=600>\n",
        "</div>"
      ]
    },
    {
      "cell_type": "markdown",
      "metadata": {
        "id": "YIrAdTzTYsjC"
      },
      "source": [
        "## An Example: Classifying my dogs\n",
        "Then, when we have some new pictures of my dogs, the idea is that we can make a __prediction__ based on previous data as to whether it is Zoey or Ace in the photo. \n",
        "\n",
        "<div>\n",
        "<img src=\"https://github.com/merriekay/S23-CS17-Notes/blob/main/images/ace.png?raw=1\"/ width=300>\n",
        "</div>"
      ]
    },
    {
      "cell_type": "markdown",
      "metadata": {
        "id": "Mj3MrtZBYsjC"
      },
      "source": [
        "## Another Example: What species of Iris is this?\n",
        "Use Polleverywhere to answer this question\n",
        "\n",
        "- 5.1 cm petal, 7.2 cm sepal\n",
        "\n",
        "<div>\n",
        "<img src=\"https://github.com/merriekay/S23-CS17-Notes/blob/main/images/day0_iris_q1.png?raw=1\"/>\n",
        "</div>\n"
      ]
    },
    {
      "cell_type": "markdown",
      "metadata": {
        "id": "8beuDxPsYsjC"
      },
      "source": [
        "## 💬 Group Exercise\n",
        "The following image shows two models of whether or not a person is a football player based on their weight and height. \n",
        "\n",
        "__Which model do you think is *better* and why?__\n",
        "<div>\n",
        "<img src=\"https://github.com/merriekay/S23-CS17-Notes/blob/main/images/bias_variance_tradeoff.png?raw=1\"/>\n",
        "</div>"
      ]
    },
    {
      "cell_type": "markdown",
      "metadata": {
        "id": "ey7I2QUJYsjC"
      },
      "source": [
        "## Bias v Variance Tradeoff\n",
        "\n",
        "### 🚨 Termiology Alert!🚨 \n",
        "__Bias__ is the simplifying assumptions made by the model to make the target function easier to approximate.\n",
        "- In other words, **bias** is erroneous assumptions in a learning model\n",
        "\n",
        "__Variance__ is the amount that the estimate of the target function will change given different training data. \n",
        "- **variance** is the error from sensitivity to small fluctuations in the training set. "
      ]
    },
    {
      "cell_type": "markdown",
      "metadata": {
        "id": "V8N5alovYsjC"
      },
      "source": [
        "## ❓ Concept Check Question\n",
        "Which of the models below do you think has **high variance** (error from small fluctuations) and which one do you think has **high bias** (simplifying assumptions)?\n",
        "\n",
        "<div>\n",
        "<img src=\"https://github.com/merriekay/S23-CS17-Notes/blob/main/images/day01_bias_variance.png?raw=1\"/>\n",
        "</div>"
      ]
    },
    {
      "cell_type": "markdown",
      "metadata": {
        "id": "Ag0k3SLsYsjC"
      },
      "source": [
        "## Machine Learning Variations\n",
        "\n",
        "We are going to learn about a lot of different types of machine learning in CS167. Here are a few categories to look out for: \n",
        "- __classifcation__: identify which category it goes in. Examples: Spam or ham? Eric or Tim? Fish, amphibian, reptile, bird, or mammal\n",
        "- __regression__: real-valued labels. Examples: price of Bitcoin, tomorrow's temperature, etc.\n",
        "- __supervised learning__: data has labels, goal is to predict the labels of new instance. \n",
        "- __unsupervised learning__: data does not have a label, the goal is to analyze/cluster the examples. \n",
        "- __other issues__: missing data, sequential data, outlier anomaly detetion, and many more. "
      ]
    },
    {
      "cell_type": "code",
      "execution_count": null,
      "metadata": {
        "id": "sXqwp3XBYsjD"
      },
      "outputs": [],
      "source": []
    }
  ],
  "metadata": {
    "celltoolbar": "Slideshow",
    "kernelspec": {
      "display_name": "Python 3",
      "language": "python",
      "name": "python3"
    },
    "language_info": {
      "codemirror_mode": {
        "name": "ipython",
        "version": 3
      },
      "file_extension": ".py",
      "mimetype": "text/x-python",
      "name": "python",
      "nbconvert_exporter": "python",
      "pygments_lexer": "ipython3",
      "version": "3.8.3"
    },
    "colab": {
      "provenance": []
    }
  },
  "nbformat": 4,
  "nbformat_minor": 0
}